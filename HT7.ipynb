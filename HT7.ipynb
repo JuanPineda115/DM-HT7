{
 "cells": [
  {
   "cell_type": "markdown",
   "metadata": {},
   "source": [
    "Universidad del Valle de Guatemala\n",
    "Laura Tamath\n",
    "Martin Amado\n",
    "Juan Pablo Pineda"
   ]
  },
  {
   "cell_type": "code",
   "execution_count": 1,
   "metadata": {},
   "outputs": [],
   "source": [
    "from sklearn import svm\n",
    "import pandas as panda\n",
    "import numpy as numpy\n",
    "import matplotlib.pyplot as plt"
   ]
  },
  {
   "cell_type": "code",
   "execution_count": null,
   "metadata": {},
   "outputs": [],
   "source": [
    "setdatos = panda.read_csv('train.csv')\n",
    "setdatos = panda.DataFrame(setdatos)\n",
    "setdatos['name'] = setdatos['name'].map(\n",
    "{'orange': 0, 'grapefruit': 1}, na_action=None)\n",
    "x = setdatos[setdatos.columns[1:3]].values\n",
    "y = setdatos[setdatos.columns[0]].values"
   ]
  },
  {
   "cell_type": "code",
   "execution_count": null,
   "metadata": {},
   "outputs": [],
   "source": [
    "minx, xmax = x[:, 0].min() - 1, x[:, 0].max() + 1\n",
    "miny, ymax = x[:, 1].min() - 1, x[:, 1].max() + 1\n",
    "j = (xmax / minx)/100\n",
    "xx, yy = numpy.meshgrid(numpy.arange(minx, xmax, j),numpy.arange(miny, ymax, j))\n",
    "svmm = svm.SVC(kernel='RBF', C=1, gamma=10)\n",
    "svmm.fit(x, y)"
   ]
  },
  {
   "cell_type": "code",
   "execution_count": null,
   "metadata": {},
   "outputs": [],
   "source": [
    "plt.subplot(1, 1, 1)\n",
    "Z = svmm.predict(numpy.c_[xx.ravel(), yy.ravel()])\n",
    "plt.contourf(xx, yy, Z, cmap=plt.cm.Accent, alpha=0.7,)\n",
    "Z = Z.reshape(xx.shape)\n",
    "plt.xlim(xx.min(), xx.max())\n",
    "plt.scatter(x[:, 0], x[:, 1], c=y, cmap=plt.cm.Accent)\n",
    "plt.xlabel('Diametro')\n",
    "plt.title('SVM')\n",
    "plt.ylabel('Peso')\n",
    "plt.show()"
   ]
  }
 ],
 "metadata": {
  "interpreter": {
   "hash": "a37f35004d82018ed3bf7ae7e60630ead8f0fc310ccc05d4d919854a8ecbec16"
  },
  "kernelspec": {
   "display_name": "Python 3.9.10 64-bit (windows store)",
   "language": "python",
   "name": "python3"
  },
  "language_info": {
   "codemirror_mode": {
    "name": "ipython",
    "version": 3
   },
   "file_extension": ".py",
   "mimetype": "text/x-python",
   "name": "python",
   "nbconvert_exporter": "python",
   "pygments_lexer": "ipython3",
   "version": "3.9.10"
  },
  "orig_nbformat": 4
 },
 "nbformat": 4,
 "nbformat_minor": 2
}
